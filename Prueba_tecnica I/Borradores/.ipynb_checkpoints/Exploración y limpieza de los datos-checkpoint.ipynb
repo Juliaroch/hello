{
 "cells": [
  {
   "cell_type": "markdown",
   "metadata": {},
   "source": [
    "# **FASE 0: Exploración y limpieza de los datos**"
   ]
  },
  {
   "cell_type": "markdown",
   "metadata": {},
   "source": [
    "**IMPORTACIÓN DE LIBRERIAS USADAS PARA ESTA PRIMERA FASE**"
   ]
  },
  {
   "cell_type": "code",
   "execution_count": 25,
   "metadata": {},
   "outputs": [],
   "source": [
    "import pandas as pd\n",
    "import csv\n",
    "import os"
   ]
  },
  {
   "cell_type": "markdown",
   "metadata": {},
   "source": [
    "**CARGA DE LOS DATOS**"
   ]
  },
  {
   "cell_type": "markdown",
   "metadata": {},
   "source": [
    "A continuación se declarará el siguiente dataframe generado en pandas y cargado a través de un archivo en csv llamado **categorical_data** en la ruta absoluta \"../data/categorical_data.csv\", donde están contenidas las variables categóricas. "
   ]
  },
  {
   "cell_type": "code",
   "execution_count": 26,
   "metadata": {},
   "outputs": [],
   "source": [
    "categorical_data = pd.read_csv('../data/categorical_data.csv')"
   ]
  },
  {
   "cell_type": "markdown",
   "metadata": {},
   "source": [
    "El siguiente dataframe con variables categóricas se cargarán del csv llamado **numeric_data** a través de la ruta relativa \"../data/numeric_data.csv\"."
   ]
  },
  {
   "cell_type": "code",
   "execution_count": 27,
   "metadata": {},
   "outputs": [],
   "source": [
    "numeric_data = pd.read_csv('../data/numeric_data.csv')"
   ]
  },
  {
   "cell_type": "markdown",
   "metadata": {},
   "source": [
    "Para poder tratar los datos en conjunto se realizará una unión de ambos dataframes por la variable **ID** que dará como resultado un único dataframe llamado **df**."
   ]
  },
  {
   "cell_type": "code",
   "execution_count": 28,
   "metadata": {},
   "outputs": [],
   "source": [
    "df = pd.merge(categorical_data, numeric_data, how = 'left', on = 'ID')"
   ]
  },
  {
   "cell_type": "markdown",
   "metadata": {},
   "source": [
    "**EXPLORACIÓN INICIAL DE LOS DATOS**"
   ]
  },
  {
   "cell_type": "markdown",
   "metadata": {},
   "source": [
    "**Observación de la información**"
   ]
  },
  {
   "cell_type": "markdown",
   "metadata": {},
   "source": [
    "Dado que el dataset tiene un número de columnas asequibles, antes de realizar una exploración mas técnica es conveniente entender la información con la que se está trabajando, algo muy importante sobre todo, cuando en este caso concreto hay un gran desconocimiento por el tema a tratar, tanto del deporte al que atañe el videojuego como el funcionamiento de este en sí. Por lo que se realizará una primera visual completa del contenido que ofrece el dataset."
   ]
  },
  {
   "cell_type": "code",
   "execution_count": 29,
   "metadata": {},
   "outputs": [],
   "source": [
    "#Función de la librería para que muestre todas las columnas\n",
    "pd.options.display.max_columns = None"
   ]
  },
  {
   "cell_type": "code",
   "execution_count": 1,
   "metadata": {},
   "outputs": [],
   "source": [
    "df.head()"
   ]
  },
  {
   "cell_type": "code",
   "execution_count": 2,
   "metadata": {},
   "outputs": [],
   "source": [
    "#Función para enlistar todas las columnas y poder visualizarlas con mayor facilidad.\n",
    "df.columns.to_list()"
   ]
  },
  {
   "cell_type": "markdown",
   "metadata": {},
   "source": [
    "Tras realizarla la primera observación, se ha llevado a cabo una primera investigación para el tratamiento de los datos la cual ha dado como primer resultado la puesta en conocimiento de la columna *Work Rate*. Dicho \"ratio\" indica el nivel tanto de ataque en primera posición como el de defensa en segunda posición. Para un mejor anáisis será conveniente dividir esta columna en dos nuevas que indiquen esta iformación por separado."
   ]
  },
  {
   "cell_type": "code",
   "execution_count": 32,
   "metadata": {},
   "outputs": [],
   "source": [
    "#Dividisión de una cadena o string por el carácter indicado a través de la función split.\n",
    "df[['Attack', 'Defense']] = df['Work Rate'].str.split('/', expand = True)"
   ]
  },
  {
   "cell_type": "markdown",
   "metadata": {},
   "source": [
    "Una vez hecho esto se procederá a darles un valor numérico y sumarlas entre ellas para obtener un ratio con el que operar a la hora de realizar la futuras pruebas con el algoritmo de clusterización."
   ]
  },
  {
   "cell_type": "code",
   "execution_count": 33,
   "metadata": {},
   "outputs": [],
   "source": [
    "df['Attack'] = df['Attack'].apply(lambda x: str(x).replace('High','3'))\n",
    "df['Attack'] = df['Attack'].apply(lambda x: str(x).replace('Medium','2'))\n",
    "df['Attack'] = df['Attack'].apply(lambda x: str(x).replace('Low','1'))\n",
    "\n",
    "df['Defense'] = df['Defense'].apply(lambda x: str(x).replace('High','3'))\n",
    "df['Defense'] = df['Defense'].apply(lambda x: str(x).replace('Medium','2'))\n",
    "df['Defense'] = df['Defense'].apply(lambda x: str(x).replace('Low','1'))\n",
    "\n",
    "df['Attack'] = df['Attack'].astype(int)\n",
    "df['Defense'] = df['Defense'].astype(int)\n",
    "\n",
    "df['Work'] = df[\"Attack\"] + df[\"Defense\"]\n",
    "\n",
    "df = df.drop(['Attack', 'Defense'], axis=1)"
   ]
  },
  {
   "cell_type": "markdown",
   "metadata": {},
   "source": [
    "**Comprobación de la existencia de valores duplicados:**\n",
    "\n",
    "Para asegurar la fiabilidad del dataset, ya que no se han importados los datos directamente desde una consulta a la base de datos sino proporcionados por terceros y corren el riesgo de haber sido manipulados, se hará un control previo en base a la redundancia de información por registros duplicados. Para ello se comprobará la cantidad de valores totales que tenga cada uno de los registros por el identificador de jugador."
   ]
  },
  {
   "cell_type": "code",
   "execution_count": 3,
   "metadata": {},
   "outputs": [],
   "source": [
    "x = print(df['ID'].value_counts())"
   ]
  },
  {
   "cell_type": "markdown",
   "metadata": {},
   "source": [
    "Como se puede comprobar por el primer elemento, no existe tal riesgo ya que mustra los valores ordenados de mayor a menor."
   ]
  },
  {
   "cell_type": "markdown",
   "metadata": {},
   "source": [
    "**Comprobación de la existencia de valores nulos**\n",
    "\n",
    "Se llevará acabo una exploración de aquellos datos nulos que puedan darse en el dataset y caso afirmativo se valorará a posteriori como tratarlos."
   ]
  },
  {
   "cell_type": "code",
   "execution_count": 4,
   "metadata": {},
   "outputs": [],
   "source": [
    "#Se comprueba la inexistencia de columnas con valores nulos.\n",
    "df.isnull().sum()"
   ]
  },
  {
   "cell_type": "markdown",
   "metadata": {},
   "source": [
    "**LIMPIEZA**"
   ]
  },
  {
   "cell_type": "markdown",
   "metadata": {},
   "source": [
    "Llegados a este punto se puede coprobar que el dataset apenas requiere de limpieza pero sería conveniente elimiar al menos aquellas columnas que ya sabemos que pueden añadir ruido al futuro análisis. En este caso serán las columnas **ID** y **Work Rate**."
   ]
  },
  {
   "cell_type": "code",
   "execution_count": 36,
   "metadata": {},
   "outputs": [],
   "source": [
    "df = df.drop(['Work Rate'], axis=1)"
   ]
  },
  {
   "cell_type": "markdown",
   "metadata": {},
   "source": [
    "**EXPORTACIÓN DE LOS DATOS**"
   ]
  },
  {
   "cell_type": "markdown",
   "metadata": {},
   "source": [
    "Finalmente los datos serán exportados en un csv con el nombre de **dataset_fifa2019** a la carpeta *archivos generados FASE 0* contenida en la carperta *data* que se encuentra en el repositorio del proyecto. Ruta relativa \"../data/archivos generados FASE 0\"."
   ]
  },
  {
   "cell_type": "code",
   "execution_count": 50,
   "metadata": {},
   "outputs": [],
   "source": [
    "def exportación (df):\n",
    "    name_file = 'dataset_fifa2019.csv'\n",
    "    path = '../data/archivos generados FASE 0'\n",
    "    output = os.path.join(path, name_file)\n",
    "    df.to_csv(output, index = False)"
   ]
  },
  {
   "cell_type": "code",
   "execution_count": 51,
   "metadata": {},
   "outputs": [],
   "source": [
    "exportación (df)"
   ]
  },
  {
   "cell_type": "code",
   "execution_count": null,
   "metadata": {},
   "outputs": [],
   "source": []
  }
 ],
 "metadata": {
  "kernelspec": {
   "display_name": "Python 3",
   "language": "python",
   "name": "python3"
  },
  "language_info": {
   "codemirror_mode": {
    "name": "ipython",
    "version": 3
   },
   "file_extension": ".py",
   "mimetype": "text/x-python",
   "name": "python",
   "nbconvert_exporter": "python",
   "pygments_lexer": "ipython3",
   "version": "3.7.4"
  }
 },
 "nbformat": 4,
 "nbformat_minor": 2
}
