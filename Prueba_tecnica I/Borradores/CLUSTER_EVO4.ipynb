{
 "cells": [
  {
   "cell_type": "code",
   "execution_count": 1,
   "metadata": {},
   "outputs": [],
   "source": [
    "import matplotlib.pyplot as plt\n",
    "import seaborn as sns\n",
    "import numpy as np\n",
    "import pandas as pd\n",
    "\n",
    "\n",
    "%matplotlib inline"
   ]
  },
  {
   "cell_type": "code",
   "execution_count": 2,
   "metadata": {},
   "outputs": [],
   "source": [
    "df_ = pd.read_csv('../notebooks/dataset_fifa2019.csv')"
   ]
  },
  {
   "cell_type": "code",
   "execution_count": 3,
   "metadata": {},
   "outputs": [],
   "source": [
    "df = df_.drop(['Unnamed: 0','ID',\n",
    " 'Name',\n",
    " 'Nationality',\n",
    " 'Club',\n",
    " 'Preferred Foot'], axis=1)"
   ]
  },
  {
   "cell_type": "code",
   "execution_count": null,
   "metadata": {},
   "outputs": [],
   "source": []
  },
  {
   "cell_type": "code",
   "execution_count": 4,
   "metadata": {},
   "outputs": [
    {
     "data": {
      "text/html": [
       "<div>\n",
       "<style scoped>\n",
       "    .dataframe tbody tr th:only-of-type {\n",
       "        vertical-align: middle;\n",
       "    }\n",
       "\n",
       "    .dataframe tbody tr th {\n",
       "        vertical-align: top;\n",
       "    }\n",
       "\n",
       "    .dataframe thead th {\n",
       "        text-align: right;\n",
       "    }\n",
       "</style>\n",
       "<table border=\"1\" class=\"dataframe\">\n",
       "  <thead>\n",
       "    <tr style=\"text-align: right;\">\n",
       "      <th></th>\n",
       "      <th>Age</th>\n",
       "      <th>Overall</th>\n",
       "      <th>Potential</th>\n",
       "      <th>Wage</th>\n",
       "      <th>Special</th>\n",
       "      <th>International Reputation</th>\n",
       "      <th>Weight</th>\n",
       "      <th>Crossing</th>\n",
       "      <th>Finishing</th>\n",
       "      <th>HeadingAccuracy</th>\n",
       "      <th>...</th>\n",
       "      <th>Composure</th>\n",
       "      <th>Marking</th>\n",
       "      <th>StandingTackle</th>\n",
       "      <th>SlidingTackle</th>\n",
       "      <th>GKDiving</th>\n",
       "      <th>GKHandling</th>\n",
       "      <th>GKKicking</th>\n",
       "      <th>GKPositioning</th>\n",
       "      <th>GKReflexes</th>\n",
       "      <th>Work</th>\n",
       "    </tr>\n",
       "  </thead>\n",
       "  <tbody>\n",
       "    <tr>\n",
       "      <th>0</th>\n",
       "      <td>31</td>\n",
       "      <td>94</td>\n",
       "      <td>94</td>\n",
       "      <td>565000000.0</td>\n",
       "      <td>2202</td>\n",
       "      <td>5.0</td>\n",
       "      <td>159</td>\n",
       "      <td>84.0</td>\n",
       "      <td>95.0</td>\n",
       "      <td>70.0</td>\n",
       "      <td>...</td>\n",
       "      <td>96.0</td>\n",
       "      <td>33.0</td>\n",
       "      <td>28.0</td>\n",
       "      <td>26.0</td>\n",
       "      <td>6.0</td>\n",
       "      <td>11.0</td>\n",
       "      <td>15.0</td>\n",
       "      <td>14.0</td>\n",
       "      <td>8.0</td>\n",
       "      <td>4</td>\n",
       "    </tr>\n",
       "    <tr>\n",
       "      <th>1</th>\n",
       "      <td>33</td>\n",
       "      <td>94</td>\n",
       "      <td>94</td>\n",
       "      <td>405000000.0</td>\n",
       "      <td>2228</td>\n",
       "      <td>5.0</td>\n",
       "      <td>183</td>\n",
       "      <td>84.0</td>\n",
       "      <td>94.0</td>\n",
       "      <td>89.0</td>\n",
       "      <td>...</td>\n",
       "      <td>95.0</td>\n",
       "      <td>28.0</td>\n",
       "      <td>31.0</td>\n",
       "      <td>23.0</td>\n",
       "      <td>7.0</td>\n",
       "      <td>11.0</td>\n",
       "      <td>15.0</td>\n",
       "      <td>14.0</td>\n",
       "      <td>11.0</td>\n",
       "      <td>4</td>\n",
       "    </tr>\n",
       "    <tr>\n",
       "      <th>2</th>\n",
       "      <td>26</td>\n",
       "      <td>92</td>\n",
       "      <td>93</td>\n",
       "      <td>290000000.0</td>\n",
       "      <td>2143</td>\n",
       "      <td>5.0</td>\n",
       "      <td>150</td>\n",
       "      <td>79.0</td>\n",
       "      <td>87.0</td>\n",
       "      <td>62.0</td>\n",
       "      <td>...</td>\n",
       "      <td>94.0</td>\n",
       "      <td>27.0</td>\n",
       "      <td>24.0</td>\n",
       "      <td>33.0</td>\n",
       "      <td>9.0</td>\n",
       "      <td>9.0</td>\n",
       "      <td>15.0</td>\n",
       "      <td>15.0</td>\n",
       "      <td>11.0</td>\n",
       "      <td>5</td>\n",
       "    </tr>\n",
       "    <tr>\n",
       "      <th>3</th>\n",
       "      <td>27</td>\n",
       "      <td>91</td>\n",
       "      <td>92</td>\n",
       "      <td>355000000.0</td>\n",
       "      <td>2281</td>\n",
       "      <td>4.0</td>\n",
       "      <td>154</td>\n",
       "      <td>93.0</td>\n",
       "      <td>82.0</td>\n",
       "      <td>55.0</td>\n",
       "      <td>...</td>\n",
       "      <td>88.0</td>\n",
       "      <td>68.0</td>\n",
       "      <td>58.0</td>\n",
       "      <td>51.0</td>\n",
       "      <td>15.0</td>\n",
       "      <td>13.0</td>\n",
       "      <td>5.0</td>\n",
       "      <td>10.0</td>\n",
       "      <td>13.0</td>\n",
       "      <td>6</td>\n",
       "    </tr>\n",
       "    <tr>\n",
       "      <th>4</th>\n",
       "      <td>27</td>\n",
       "      <td>91</td>\n",
       "      <td>91</td>\n",
       "      <td>340000000.0</td>\n",
       "      <td>2142</td>\n",
       "      <td>4.0</td>\n",
       "      <td>163</td>\n",
       "      <td>81.0</td>\n",
       "      <td>84.0</td>\n",
       "      <td>61.0</td>\n",
       "      <td>...</td>\n",
       "      <td>91.0</td>\n",
       "      <td>34.0</td>\n",
       "      <td>27.0</td>\n",
       "      <td>22.0</td>\n",
       "      <td>11.0</td>\n",
       "      <td>12.0</td>\n",
       "      <td>6.0</td>\n",
       "      <td>8.0</td>\n",
       "      <td>8.0</td>\n",
       "      <td>5</td>\n",
       "    </tr>\n",
       "    <tr>\n",
       "      <th>...</th>\n",
       "      <td>...</td>\n",
       "      <td>...</td>\n",
       "      <td>...</td>\n",
       "      <td>...</td>\n",
       "      <td>...</td>\n",
       "      <td>...</td>\n",
       "      <td>...</td>\n",
       "      <td>...</td>\n",
       "      <td>...</td>\n",
       "      <td>...</td>\n",
       "      <td>...</td>\n",
       "      <td>...</td>\n",
       "      <td>...</td>\n",
       "      <td>...</td>\n",
       "      <td>...</td>\n",
       "      <td>...</td>\n",
       "      <td>...</td>\n",
       "      <td>...</td>\n",
       "      <td>...</td>\n",
       "      <td>...</td>\n",
       "      <td>...</td>\n",
       "    </tr>\n",
       "    <tr>\n",
       "      <th>14738</th>\n",
       "      <td>19</td>\n",
       "      <td>47</td>\n",
       "      <td>65</td>\n",
       "      <td>1000000.0</td>\n",
       "      <td>1307</td>\n",
       "      <td>1.0</td>\n",
       "      <td>134</td>\n",
       "      <td>34.0</td>\n",
       "      <td>38.0</td>\n",
       "      <td>40.0</td>\n",
       "      <td>...</td>\n",
       "      <td>45.0</td>\n",
       "      <td>40.0</td>\n",
       "      <td>48.0</td>\n",
       "      <td>47.0</td>\n",
       "      <td>10.0</td>\n",
       "      <td>13.0</td>\n",
       "      <td>7.0</td>\n",
       "      <td>8.0</td>\n",
       "      <td>9.0</td>\n",
       "      <td>4</td>\n",
       "    </tr>\n",
       "    <tr>\n",
       "      <th>14739</th>\n",
       "      <td>19</td>\n",
       "      <td>47</td>\n",
       "      <td>63</td>\n",
       "      <td>1000000.0</td>\n",
       "      <td>1098</td>\n",
       "      <td>1.0</td>\n",
       "      <td>170</td>\n",
       "      <td>23.0</td>\n",
       "      <td>52.0</td>\n",
       "      <td>52.0</td>\n",
       "      <td>...</td>\n",
       "      <td>42.0</td>\n",
       "      <td>22.0</td>\n",
       "      <td>15.0</td>\n",
       "      <td>19.0</td>\n",
       "      <td>10.0</td>\n",
       "      <td>9.0</td>\n",
       "      <td>9.0</td>\n",
       "      <td>5.0</td>\n",
       "      <td>12.0</td>\n",
       "      <td>4</td>\n",
       "    </tr>\n",
       "    <tr>\n",
       "      <th>14740</th>\n",
       "      <td>16</td>\n",
       "      <td>47</td>\n",
       "      <td>67</td>\n",
       "      <td>1000000.0</td>\n",
       "      <td>1189</td>\n",
       "      <td>1.0</td>\n",
       "      <td>148</td>\n",
       "      <td>25.0</td>\n",
       "      <td>40.0</td>\n",
       "      <td>46.0</td>\n",
       "      <td>...</td>\n",
       "      <td>41.0</td>\n",
       "      <td>32.0</td>\n",
       "      <td>13.0</td>\n",
       "      <td>11.0</td>\n",
       "      <td>6.0</td>\n",
       "      <td>5.0</td>\n",
       "      <td>10.0</td>\n",
       "      <td>6.0</td>\n",
       "      <td>13.0</td>\n",
       "      <td>4</td>\n",
       "    </tr>\n",
       "    <tr>\n",
       "      <th>14741</th>\n",
       "      <td>17</td>\n",
       "      <td>47</td>\n",
       "      <td>66</td>\n",
       "      <td>1000000.0</td>\n",
       "      <td>1228</td>\n",
       "      <td>1.0</td>\n",
       "      <td>154</td>\n",
       "      <td>44.0</td>\n",
       "      <td>50.0</td>\n",
       "      <td>39.0</td>\n",
       "      <td>...</td>\n",
       "      <td>46.0</td>\n",
       "      <td>20.0</td>\n",
       "      <td>25.0</td>\n",
       "      <td>27.0</td>\n",
       "      <td>14.0</td>\n",
       "      <td>6.0</td>\n",
       "      <td>14.0</td>\n",
       "      <td>8.0</td>\n",
       "      <td>9.0</td>\n",
       "      <td>4</td>\n",
       "    </tr>\n",
       "    <tr>\n",
       "      <th>14742</th>\n",
       "      <td>16</td>\n",
       "      <td>46</td>\n",
       "      <td>66</td>\n",
       "      <td>1000000.0</td>\n",
       "      <td>1321</td>\n",
       "      <td>1.0</td>\n",
       "      <td>176</td>\n",
       "      <td>41.0</td>\n",
       "      <td>34.0</td>\n",
       "      <td>46.0</td>\n",
       "      <td>...</td>\n",
       "      <td>43.0</td>\n",
       "      <td>40.0</td>\n",
       "      <td>43.0</td>\n",
       "      <td>50.0</td>\n",
       "      <td>10.0</td>\n",
       "      <td>15.0</td>\n",
       "      <td>9.0</td>\n",
       "      <td>12.0</td>\n",
       "      <td>9.0</td>\n",
       "      <td>4</td>\n",
       "    </tr>\n",
       "  </tbody>\n",
       "</table>\n",
       "<p>14743 rows × 42 columns</p>\n",
       "</div>"
      ],
      "text/plain": [
       "       Age  Overall  Potential         Wage  Special  \\\n",
       "0       31       94         94  565000000.0     2202   \n",
       "1       33       94         94  405000000.0     2228   \n",
       "2       26       92         93  290000000.0     2143   \n",
       "3       27       91         92  355000000.0     2281   \n",
       "4       27       91         91  340000000.0     2142   \n",
       "...    ...      ...        ...          ...      ...   \n",
       "14738   19       47         65    1000000.0     1307   \n",
       "14739   19       47         63    1000000.0     1098   \n",
       "14740   16       47         67    1000000.0     1189   \n",
       "14741   17       47         66    1000000.0     1228   \n",
       "14742   16       46         66    1000000.0     1321   \n",
       "\n",
       "       International Reputation  Weight  Crossing  Finishing  HeadingAccuracy  \\\n",
       "0                           5.0     159      84.0       95.0             70.0   \n",
       "1                           5.0     183      84.0       94.0             89.0   \n",
       "2                           5.0     150      79.0       87.0             62.0   \n",
       "3                           4.0     154      93.0       82.0             55.0   \n",
       "4                           4.0     163      81.0       84.0             61.0   \n",
       "...                         ...     ...       ...        ...              ...   \n",
       "14738                       1.0     134      34.0       38.0             40.0   \n",
       "14739                       1.0     170      23.0       52.0             52.0   \n",
       "14740                       1.0     148      25.0       40.0             46.0   \n",
       "14741                       1.0     154      44.0       50.0             39.0   \n",
       "14742                       1.0     176      41.0       34.0             46.0   \n",
       "\n",
       "       ...  Composure  Marking  StandingTackle  SlidingTackle  GKDiving  \\\n",
       "0      ...       96.0     33.0            28.0           26.0       6.0   \n",
       "1      ...       95.0     28.0            31.0           23.0       7.0   \n",
       "2      ...       94.0     27.0            24.0           33.0       9.0   \n",
       "3      ...       88.0     68.0            58.0           51.0      15.0   \n",
       "4      ...       91.0     34.0            27.0           22.0      11.0   \n",
       "...    ...        ...      ...             ...            ...       ...   \n",
       "14738  ...       45.0     40.0            48.0           47.0      10.0   \n",
       "14739  ...       42.0     22.0            15.0           19.0      10.0   \n",
       "14740  ...       41.0     32.0            13.0           11.0       6.0   \n",
       "14741  ...       46.0     20.0            25.0           27.0      14.0   \n",
       "14742  ...       43.0     40.0            43.0           50.0      10.0   \n",
       "\n",
       "       GKHandling  GKKicking  GKPositioning  GKReflexes  Work  \n",
       "0            11.0       15.0           14.0         8.0     4  \n",
       "1            11.0       15.0           14.0        11.0     4  \n",
       "2             9.0       15.0           15.0        11.0     5  \n",
       "3            13.0        5.0           10.0        13.0     6  \n",
       "4            12.0        6.0            8.0         8.0     5  \n",
       "...           ...        ...            ...         ...   ...  \n",
       "14738        13.0        7.0            8.0         9.0     4  \n",
       "14739         9.0        9.0            5.0        12.0     4  \n",
       "14740         5.0       10.0            6.0        13.0     4  \n",
       "14741         6.0       14.0            8.0         9.0     4  \n",
       "14742        15.0        9.0           12.0         9.0     4  \n",
       "\n",
       "[14743 rows x 42 columns]"
      ]
     },
     "execution_count": 4,
     "metadata": {},
     "output_type": "execute_result"
    }
   ],
   "source": [
    "df"
   ]
  },
  {
   "cell_type": "code",
   "execution_count": 5,
   "metadata": {},
   "outputs": [],
   "source": [
    "df_log = np.log(df)"
   ]
  },
  {
   "cell_type": "code",
   "execution_count": 6,
   "metadata": {},
   "outputs": [],
   "source": [
    "df_log['avg'] = df_log[[ 'Crossing',\n",
    " 'Finishing',\n",
    " 'HeadingAccuracy',\n",
    " 'ShortPassing',\n",
    " 'Volleys',\n",
    " 'Dribbling',\n",
    " 'Curve',\n",
    " 'FKAccuracy',\n",
    " 'LongPassing',\n",
    " 'BallControl',\n",
    " 'Acceleration',\n",
    " 'SprintSpeed',\n",
    " 'Agility',\n",
    " 'Reactions',\n",
    " 'Balance',\n",
    " 'ShotPower',\n",
    " 'Jumping',\n",
    " 'Stamina',\n",
    " 'Strength',\n",
    " 'LongShots',\n",
    " 'Aggression',\n",
    " 'Interceptions',\n",
    " 'Positioning',\n",
    " 'Vision',\n",
    " 'Penalties',\n",
    " 'Composure',\n",
    " 'Marking',\n",
    " 'StandingTackle',\n",
    " 'SlidingTackle',\n",
    " 'GKDiving',\n",
    " 'GKHandling',\n",
    " 'GKKicking',\n",
    " 'GKPositioning',\n",
    " 'GKReflexes']].mean(axis=1)"
   ]
  },
  {
   "cell_type": "code",
   "execution_count": 7,
   "metadata": {},
   "outputs": [],
   "source": [
    "df_avg = df_log[['Age', 'Overall', 'Potential','Weight','International Reputation', 'Special','Work','avg']]"
   ]
  },
  {
   "cell_type": "code",
   "execution_count": 8,
   "metadata": {},
   "outputs": [
    {
     "data": {
      "text/html": [
       "<div>\n",
       "<style scoped>\n",
       "    .dataframe tbody tr th:only-of-type {\n",
       "        vertical-align: middle;\n",
       "    }\n",
       "\n",
       "    .dataframe tbody tr th {\n",
       "        vertical-align: top;\n",
       "    }\n",
       "\n",
       "    .dataframe thead th {\n",
       "        text-align: right;\n",
       "    }\n",
       "</style>\n",
       "<table border=\"1\" class=\"dataframe\">\n",
       "  <thead>\n",
       "    <tr style=\"text-align: right;\">\n",
       "      <th></th>\n",
       "      <th>Age</th>\n",
       "      <th>Overall</th>\n",
       "      <th>Potential</th>\n",
       "      <th>Weight</th>\n",
       "      <th>International Reputation</th>\n",
       "      <th>Special</th>\n",
       "      <th>Work</th>\n",
       "      <th>avg</th>\n",
       "    </tr>\n",
       "  </thead>\n",
       "  <tbody>\n",
       "    <tr>\n",
       "      <th>0</th>\n",
       "      <td>3.433987</td>\n",
       "      <td>4.543295</td>\n",
       "      <td>4.543295</td>\n",
       "      <td>5.068904</td>\n",
       "      <td>1.609438</td>\n",
       "      <td>7.697121</td>\n",
       "      <td>1.386294</td>\n",
       "      <td>3.989570</td>\n",
       "    </tr>\n",
       "    <tr>\n",
       "      <th>1</th>\n",
       "      <td>3.496508</td>\n",
       "      <td>4.543295</td>\n",
       "      <td>4.543295</td>\n",
       "      <td>5.209486</td>\n",
       "      <td>1.609438</td>\n",
       "      <td>7.708860</td>\n",
       "      <td>1.386294</td>\n",
       "      <td>4.018711</td>\n",
       "    </tr>\n",
       "    <tr>\n",
       "      <th>2</th>\n",
       "      <td>3.258097</td>\n",
       "      <td>4.521789</td>\n",
       "      <td>4.532599</td>\n",
       "      <td>5.010635</td>\n",
       "      <td>1.609438</td>\n",
       "      <td>7.669962</td>\n",
       "      <td>1.609438</td>\n",
       "      <td>3.990875</td>\n",
       "    </tr>\n",
       "    <tr>\n",
       "      <th>3</th>\n",
       "      <td>3.295837</td>\n",
       "      <td>4.510860</td>\n",
       "      <td>4.521789</td>\n",
       "      <td>5.036953</td>\n",
       "      <td>1.386294</td>\n",
       "      <td>7.732369</td>\n",
       "      <td>1.791759</td>\n",
       "      <td>4.069581</td>\n",
       "    </tr>\n",
       "    <tr>\n",
       "      <th>4</th>\n",
       "      <td>3.295837</td>\n",
       "      <td>4.510860</td>\n",
       "      <td>4.510860</td>\n",
       "      <td>5.093750</td>\n",
       "      <td>1.386294</td>\n",
       "      <td>7.669495</td>\n",
       "      <td>1.609438</td>\n",
       "      <td>3.956479</td>\n",
       "    </tr>\n",
       "    <tr>\n",
       "      <th>...</th>\n",
       "      <td>...</td>\n",
       "      <td>...</td>\n",
       "      <td>...</td>\n",
       "      <td>...</td>\n",
       "      <td>...</td>\n",
       "      <td>...</td>\n",
       "      <td>...</td>\n",
       "      <td>...</td>\n",
       "    </tr>\n",
       "    <tr>\n",
       "      <th>14738</th>\n",
       "      <td>2.944439</td>\n",
       "      <td>3.850148</td>\n",
       "      <td>4.174387</td>\n",
       "      <td>4.897840</td>\n",
       "      <td>0.000000</td>\n",
       "      <td>7.175490</td>\n",
       "      <td>1.386294</td>\n",
       "      <td>3.553852</td>\n",
       "    </tr>\n",
       "    <tr>\n",
       "      <th>14739</th>\n",
       "      <td>2.944439</td>\n",
       "      <td>3.850148</td>\n",
       "      <td>4.143135</td>\n",
       "      <td>5.135798</td>\n",
       "      <td>0.000000</td>\n",
       "      <td>7.001246</td>\n",
       "      <td>1.386294</td>\n",
       "      <td>3.362332</td>\n",
       "    </tr>\n",
       "    <tr>\n",
       "      <th>14740</th>\n",
       "      <td>2.772589</td>\n",
       "      <td>3.850148</td>\n",
       "      <td>4.204693</td>\n",
       "      <td>4.997212</td>\n",
       "      <td>0.000000</td>\n",
       "      <td>7.080868</td>\n",
       "      <td>1.386294</td>\n",
       "      <td>3.393240</td>\n",
       "    </tr>\n",
       "    <tr>\n",
       "      <th>14741</th>\n",
       "      <td>2.833213</td>\n",
       "      <td>3.850148</td>\n",
       "      <td>4.189655</td>\n",
       "      <td>5.036953</td>\n",
       "      <td>0.000000</td>\n",
       "      <td>7.113142</td>\n",
       "      <td>1.386294</td>\n",
       "      <td>3.482159</td>\n",
       "    </tr>\n",
       "    <tr>\n",
       "      <th>14742</th>\n",
       "      <td>2.772589</td>\n",
       "      <td>3.828641</td>\n",
       "      <td>4.189655</td>\n",
       "      <td>5.170484</td>\n",
       "      <td>0.000000</td>\n",
       "      <td>7.186144</td>\n",
       "      <td>1.386294</td>\n",
       "      <td>3.592814</td>\n",
       "    </tr>\n",
       "  </tbody>\n",
       "</table>\n",
       "<p>14743 rows × 8 columns</p>\n",
       "</div>"
      ],
      "text/plain": [
       "            Age   Overall  Potential    Weight  International Reputation  \\\n",
       "0      3.433987  4.543295   4.543295  5.068904                  1.609438   \n",
       "1      3.496508  4.543295   4.543295  5.209486                  1.609438   \n",
       "2      3.258097  4.521789   4.532599  5.010635                  1.609438   \n",
       "3      3.295837  4.510860   4.521789  5.036953                  1.386294   \n",
       "4      3.295837  4.510860   4.510860  5.093750                  1.386294   \n",
       "...         ...       ...        ...       ...                       ...   \n",
       "14738  2.944439  3.850148   4.174387  4.897840                  0.000000   \n",
       "14739  2.944439  3.850148   4.143135  5.135798                  0.000000   \n",
       "14740  2.772589  3.850148   4.204693  4.997212                  0.000000   \n",
       "14741  2.833213  3.850148   4.189655  5.036953                  0.000000   \n",
       "14742  2.772589  3.828641   4.189655  5.170484                  0.000000   \n",
       "\n",
       "        Special      Work       avg  \n",
       "0      7.697121  1.386294  3.989570  \n",
       "1      7.708860  1.386294  4.018711  \n",
       "2      7.669962  1.609438  3.990875  \n",
       "3      7.732369  1.791759  4.069581  \n",
       "4      7.669495  1.609438  3.956479  \n",
       "...         ...       ...       ...  \n",
       "14738  7.175490  1.386294  3.553852  \n",
       "14739  7.001246  1.386294  3.362332  \n",
       "14740  7.080868  1.386294  3.393240  \n",
       "14741  7.113142  1.386294  3.482159  \n",
       "14742  7.186144  1.386294  3.592814  \n",
       "\n",
       "[14743 rows x 8 columns]"
      ]
     },
     "execution_count": 8,
     "metadata": {},
     "output_type": "execute_result"
    }
   ],
   "source": [
    "df_avg"
   ]
  },
  {
   "cell_type": "code",
   "execution_count": 9,
   "metadata": {},
   "outputs": [],
   "source": [
    "fifa = df_avg.to_numpy()"
   ]
  },
  {
   "cell_type": "code",
   "execution_count": 10,
   "metadata": {},
   "outputs": [
    {
     "name": "stderr",
     "output_type": "stream",
     "text": [
      "/home/javier/miniconda2/envs/entorno/lib/python3.7/site-packages/numba/typed_passes.py:293: NumbaPerformanceWarning: \u001b[1m\n",
      "The keyword argument 'parallel=True' was specified but no transformation for parallel execution was possible.\n",
      "\n",
      "To find out why, try turning on parallel diagnostics, see http://numba.pydata.org/numba-doc/latest/user/parallel.html#diagnostics for help.\n",
      "\u001b[1m\n",
      "File \"../../../miniconda2/envs/entorno/lib/python3.7/site-packages/umap/rp_tree.py\", line 135:\u001b[0m\n",
      "\u001b[1m@numba.njit(fastmath=True, nogil=True, parallel=True)\n",
      "\u001b[1mdef euclidean_random_projection_split(data, indices, rng_state):\n",
      "\u001b[0m\u001b[1m^\u001b[0m\u001b[0m\n",
      "\u001b[0m\n",
      "  state.func_ir.loc))\n",
      "/home/javier/miniconda2/envs/entorno/lib/python3.7/site-packages/umap/nndescent.py:92: NumbaPerformanceWarning: \u001b[1m\u001b[1m\n",
      "The keyword argument 'parallel=True' was specified but no transformation for parallel execution was possible.\n",
      "\n",
      "To find out why, try turning on parallel diagnostics, see http://numba.pydata.org/numba-doc/latest/user/parallel.html#diagnostics for help.\n",
      "\u001b[1m\n",
      "File \"../../../miniconda2/envs/entorno/lib/python3.7/site-packages/umap/utils.py\", line 409:\u001b[0m\n",
      "\u001b[1m@numba.njit(parallel=True)\n",
      "\u001b[1mdef build_candidates(current_graph, n_vertices, n_neighbors, max_candidates, rng_state):\n",
      "\u001b[0m\u001b[1m^\u001b[0m\u001b[0m\n",
      "\u001b[0m\u001b[0m\n",
      "  current_graph, n_vertices, n_neighbors, max_candidates, rng_state\n",
      "/home/javier/miniconda2/envs/entorno/lib/python3.7/site-packages/numba/typed_passes.py:293: NumbaPerformanceWarning: \u001b[1m\n",
      "The keyword argument 'parallel=True' was specified but no transformation for parallel execution was possible.\n",
      "\n",
      "To find out why, try turning on parallel diagnostics, see http://numba.pydata.org/numba-doc/latest/user/parallel.html#diagnostics for help.\n",
      "\u001b[1m\n",
      "File \"../../../miniconda2/envs/entorno/lib/python3.7/site-packages/umap/nndescent.py\", line 47:\u001b[0m\n",
      "\u001b[1m    @numba.njit(parallel=True)\n",
      "\u001b[1m    def nn_descent(\n",
      "\u001b[0m    \u001b[1m^\u001b[0m\u001b[0m\n",
      "\u001b[0m\n",
      "  state.func_ir.loc))\n",
      "/home/javier/miniconda2/envs/entorno/lib/python3.7/site-packages/umap/spectral.py:229: UserWarning: Embedding a total of 3 separate connected components using meta-embedding (experimental)\n",
      "  n_components\n"
     ]
    },
    {
     "data": {
      "text/plain": [
       "UMAP(a=None, angular_rp_forest=False, b=None, init='spectral',\n",
       "     learning_rate=1.0, local_connectivity=1.0, metric='euclidean',\n",
       "     metric_kwds=None, min_dist=0.1, n_components=2, n_epochs=None,\n",
       "     n_neighbors=15, negative_sample_rate=5, random_state=42,\n",
       "     repulsion_strength=1.0, set_op_mix_ratio=1.0, spread=1.0,\n",
       "     target_metric='categorical', target_metric_kwds=None,\n",
       "     target_n_neighbors=-1, target_weight=0.5, transform_queue_size=4.0,\n",
       "     transform_seed=42, verbose=False)"
      ]
     },
     "execution_count": 10,
     "metadata": {},
     "output_type": "execute_result"
    }
   ],
   "source": [
    "import umap\n",
    "\n",
    "reducer = umap.UMAP(random_state=42)\n",
    "reducer.fit(fifa.data)"
   ]
  },
  {
   "cell_type": "code",
   "execution_count": 11,
   "metadata": {},
   "outputs": [
    {
     "data": {
      "text/plain": [
       "array([[11.453847 , -3.2686625],\n",
       "       [11.456047 , -3.2541473],\n",
       "       [11.334581 , -3.4262884],\n",
       "       ...,\n",
       "       [-5.1002784,  3.8947968],\n",
       "       [-5.165703 ,  3.9264712],\n",
       "       [-5.7940683,  4.1181936]], dtype=float32)"
      ]
     },
     "execution_count": 11,
     "metadata": {},
     "output_type": "execute_result"
    }
   ],
   "source": [
    "embedding = reducer.transform(fifa.data)\n",
    "\n",
    "embedding"
   ]
  },
  {
   "cell_type": "code",
   "execution_count": 12,
   "metadata": {},
   "outputs": [
    {
     "data": {
      "image/png": "[encoded data removed]",
      "text/plain": [
       "<Figure size 432x288 with 2 Axes>"
      ]
     },
     "metadata": {
      "needs_background": "light"
     },
     "output_type": "display_data"
    }
   ],
   "source": [
    "plt.scatter(embedding[:, 0], embedding[:, 1], cmap='Spectral', s=5)\n",
    "plt.gca().set_aspect('equal', 'datalim')\n",
    "plt.colorbar(boundaries=np.arange(11)-0.5).set_ticks(np.arange(10))\n",
    "plt.title('UMAP projection of the Digits dataset', fontsize=24);"
   ]
  },
  {
   "cell_type": "markdown",
   "metadata": {},
   "source": [
    "**kmeans**"
   ]
  },
  {
   "cell_type": "code",
   "execution_count": 13,
   "metadata": {},
   "outputs": [
    {
     "data": {
      "text/plain": [
       "KMeans(algorithm='auto', copy_x=True, init='k-means++', max_iter=300,\n",
       "       n_clusters=6, n_init=10, n_jobs=None, precompute_distances='auto',\n",
       "       random_state=42, tol=0.0001, verbose=0)"
      ]
     },
     "execution_count": 13,
     "metadata": {},
     "output_type": "execute_result"
    }
   ],
   "source": [
    "from sklearn.cluster import KMeans\n",
    "\n",
    "kmeans = KMeans(n_clusters=6, random_state=42).fit(fifa.data)\n",
    "\n",
    "kmeans"
   ]
  },
  {
   "cell_type": "code",
   "execution_count": 14,
   "metadata": {},
   "outputs": [
    {
     "data": {
      "text/plain": [
       "array([2, 2, 2, ..., 3, 3, 3], dtype=int32)"
      ]
     },
     "execution_count": 14,
     "metadata": {},
     "output_type": "execute_result"
    }
   ],
   "source": [
    "kmeans.predict(fifa.data)"
   ]
  },
  {
   "cell_type": "code",
   "execution_count": 15,
   "metadata": {},
   "outputs": [
    {
     "data": {
      "text/plain": [
       "array([ 3.33903076e+00,  4.22975487e+00,  4.24467181e+00,  5.09725175e+00,\n",
       "       -2.78943535e-15,  7.47483421e+00,  1.33121296e+00,  3.82931996e+00])"
      ]
     },
     "execution_count": 15,
     "metadata": {},
     "output_type": "execute_result"
    }
   ],
   "source": [
    "kmeans.cluster_centers_[0]"
   ]
  },
  {
   "cell_type": "code",
   "execution_count": 16,
   "metadata": {},
   "outputs": [
    {
     "data": {
      "text/plain": [
       "KMeans(algorithm='auto', copy_x=True, init='k-means++', max_iter=300,\n",
       "       n_clusters=5, n_init=10, n_jobs=None, precompute_distances='auto',\n",
       "       random_state=42, tol=0.0001, verbose=0)"
      ]
     },
     "execution_count": 16,
     "metadata": {},
     "output_type": "execute_result"
    }
   ],
   "source": [
    "kmeans = KMeans(n_clusters=5, random_state=42).fit(embedding)\n",
    "\n",
    "kmeans"
   ]
  },
  {
   "cell_type": "code",
   "execution_count": 17,
   "metadata": {},
   "outputs": [
    {
     "data": {
      "image/png": "[encoded data removed]",
      "text/plain": [
       "<Figure size 432x288 with 1 Axes>"
      ]
     },
     "metadata": {
      "needs_background": "light"
     },
     "output_type": "display_data"
    }
   ],
   "source": [
    "plt.scatter(embedding[:, 0], embedding[:, 1], s=5)\n",
    "plt.gca().set_aspect('equal', 'datalim')"
   ]
  },
  {
   "cell_type": "code",
   "execution_count": 18,
   "metadata": {},
   "outputs": [
    {
     "data": {
      "image/png": "[encoded data removed]",
      "text/plain": [
       "<Figure size 432x288 with 2 Axes>"
      ]
     },
     "metadata": {
      "needs_background": "light"
     },
     "output_type": "display_data"
    }
   ],
   "source": [
    "plt.scatter(embedding[:, 0], embedding[:, 1], c=kmeans.labels_, cmap='Spectral', s=5)\n",
    "plt.gca().set_aspect('equal', 'datalim')\n",
    "plt.colorbar(boundaries=np.arange(kmeans.n_clusters+1)-0.5).set_ticks(np.arange(kmeans.n_clusters))\n",
    "plt.title('K-Means over the Digits dataset', fontsize=20);"
   ]
  },
  {
   "cell_type": "markdown",
   "metadata": {},
   "source": [
    "## **DBSCAN**"
   ]
  },
  {
   "cell_type": "code",
   "execution_count": 19,
   "metadata": {},
   "outputs": [
    {
     "data": {
      "text/plain": [
       "DBSCAN(algorithm='auto', eps=0.5, leaf_size=30, metric='euclidean',\n",
       "       metric_params=None, min_samples=5, n_jobs=None, p=None)"
      ]
     },
     "execution_count": 19,
     "metadata": {},
     "output_type": "execute_result"
    }
   ],
   "source": [
    "from sklearn.cluster import DBSCAN\n",
    "\n",
    "clustering = DBSCAN().fit(embedding)\n",
    "\n",
    "clustering"
   ]
  },
  {
   "cell_type": "code",
   "execution_count": null,
   "metadata": {},
   "outputs": [],
   "source": []
  },
  {
   "cell_type": "code",
   "execution_count": 20,
   "metadata": {},
   "outputs": [
    {
     "data": {
      "image/png": "[encoded data removed]",
      "text/plain": [
       "<Figure size 432x288 with 2 Axes>"
      ]
     },
     "metadata": {
      "needs_background": "light"
     },
     "output_type": "display_data"
    }
   ],
   "source": [
    "plt.scatter(embedding[:, 0], embedding[:, 1], c=clustering.labels_, cmap='Spectral', s=5)\n",
    "plt.gca().set_aspect('equal', 'datalim')\n",
    "plt.colorbar(boundaries=np.arange(len(np.unique(clustering.labels_))+1)-0.5).set_ticks(np.arange(len(np.unique(clustering.labels_))))\n",
    "plt.title('DBSCAN over the Digits dataset', fontsize=24);"
   ]
  },
  {
   "cell_type": "markdown",
   "metadata": {},
   "source": [
    "**HDBSCAN**"
   ]
  },
  {
   "cell_type": "code",
   "execution_count": 21,
   "metadata": {},
   "outputs": [
    {
     "data": {
      "text/plain": [
       "HDBSCAN(algorithm='best', allow_single_cluster=False, alpha=1.0,\n",
       "        approx_min_span_tree=True, cluster_selection_epsilon=0.0,\n",
       "        cluster_selection_method='eom', core_dist_n_jobs=4,\n",
       "        gen_min_span_tree=False, leaf_size=40,\n",
       "        match_reference_implementation=False, memory=Memory(location=None),\n",
       "        metric='euclidean', min_cluster_size=5, min_samples=None, p=None,\n",
       "        prediction_data=False)"
      ]
     },
     "execution_count": 21,
     "metadata": {},
     "output_type": "execute_result"
    }
   ],
   "source": [
    "import hdbscan\n",
    "\n",
    "clusterer = hdbscan.HDBSCAN()\n",
    "\n",
    "clusterer.fit(embedding)\n",
    "\n",
    "clusterer"
   ]
  },
  {
   "cell_type": "code",
   "execution_count": 22,
   "metadata": {},
   "outputs": [
    {
     "data": {
      "image/png": "[encoded data removed]",
      "text/plain": [
       "<Figure size 432x288 with 2 Axes>"
      ]
     },
     "metadata": {
      "needs_background": "light"
     },
     "output_type": "display_data"
    }
   ],
   "source": [
    "plt.scatter(embedding[:, 0], embedding[:, 1], c=clusterer.labels_, cmap='Spectral', s=5)\n",
    "plt.gca().set_aspect('equal', 'datalim')\n",
    "plt.colorbar(boundaries=np.arange(len(np.unique(clusterer.labels_)))+0.5).set_ticks(np.arange(len(np.unique(clusterer.labels_))))\n",
    "plt.title('HDBSCAN over the Digits dataset', fontsize=24);"
   ]
  },
  {
   "cell_type": "code",
   "execution_count": 23,
   "metadata": {},
   "outputs": [],
   "source": [
    "df_['cluster'] = clustering.labels_"
   ]
  },
  {
   "cell_type": "code",
   "execution_count": 25,
   "metadata": {},
   "outputs": [],
   "source": [
    "df_.to_csv('12x4_clústers_fifa.csv')"
   ]
  },
  {
   "cell_type": "code",
   "execution_count": null,
   "metadata": {},
   "outputs": [],
   "source": []
  },
  {
   "cell_type": "code",
   "execution_count": null,
   "metadata": {},
   "outputs": [],
   "source": []
  },
  {
   "cell_type": "code",
   "execution_count": null,
   "metadata": {},
   "outputs": [],
   "source": []
  },
  {
   "cell_type": "code",
   "execution_count": null,
   "metadata": {},
   "outputs": [],
   "source": []
  },
  {
   "cell_type": "code",
   "execution_count": null,
   "metadata": {},
   "outputs": [],
   "source": []
  },
  {
   "cell_type": "code",
   "execution_count": null,
   "metadata": {},
   "outputs": [],
   "source": []
  }
 ],
 "metadata": {
  "kernelspec": {
   "display_name": "Python 3",
   "language": "python",
   "name": "python3"
  },
  "language_info": {
   "codemirror_mode": {
    "name": "ipython",
    "version": 3
   },
   "file_extension": ".py",
   "mimetype": "text/x-python",
   "name": "python",
   "nbconvert_exporter": "python",
   "pygments_lexer": "ipython3",
   "version": "3.7.4"
  }
 },
 "nbformat": 4,
 "nbformat_minor": 2
}
