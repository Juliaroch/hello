{
 "cells": [
  {
   "cell_type": "markdown",
   "metadata": {},
   "source": [
    "# FASE 2: Visualización"
   ]
  },
  {
   "cell_type": "markdown",
   "metadata": {},
   "source": [
    "**0. INTRODUCCIÓN**"
   ]
  },
  {
   "cell_type": "markdown",
   "metadata": {},
   "source": [
    "Para la visualización de los datos se ha usado una biblioteca que permite interactuar con los gráficos, en este caso la interacción de mayor utilidad será la aparición de una etiqueta con la información al situar el ratón sobre algún elemento o resaltar grupos arrastrando con el cursor y eligiendo varios a la vez. A continuación se incluirán los pasos necesarios para su instalación.\n"
   ]
  },
  {
   "cell_type": "markdown",
   "metadata": {},
   "source": [
    "**1. INSTALACIÓN DE PLOTLY Y JUPYTER SUPPORT**\n",
    "\n"
   ]
  },
  {
   "cell_type": "markdown",
   "metadata": {},
   "source": [
    "* Para el soporte de jupyter classic, se necesita `ipywidgets`.\n",
    "* Para el soporte de jupyterlab se necesita una extensión:\n",
    "    * `conda activar jupyter_env`\n",
    "    * `jupyter labextension install jupyterlab-plotly@1.5.0 --no-build` (necesita nodejs, puede instalar ejecutando` conda install nodejs`)\n",
    "    * `jupyter lab build` (necesita nodejs, puede instalar ejecutando` conda install nodejs`)"
   ]
  },
  {
   "cell_type": "markdown",
   "metadata": {},
   "source": [
    "**2.IMPORTACIÓN DE LIIBRERIAS**"
   ]
  },
  {
   "cell_type": "code",
   "execution_count": 1,
   "metadata": {},
   "outputs": [
    {
     "data": {
      "text/html": [
       "        <script type=\"text/javascript\">\n",
       "        window.PlotlyConfig = {MathJaxConfig: 'local'};\n",
       "        if (window.MathJax) {MathJax.Hub.Config({SVG: {font: \"STIX-Web\"}});}\n",
       "        if (typeof require !== 'undefined') {\n",
       "        require.undef(\"plotly\");\n",
       "        requirejs.config({\n",
       "            paths: {\n",
       "                'plotly': ['https://cdn.plot.ly/plotly-latest.min']\n",
       "            }\n",
       "        });\n",
       "        require(['plotly'], function(Plotly) {\n",
       "            window._Plotly = Plotly;\n",
       "        });\n",
       "        }\n",
       "        </script>\n",
       "        "
      ]
     },
     "metadata": {},
     "output_type": "display_data"
    }
   ],
   "source": [
    "import cufflinks as cf\n",
    "import pandas as pd\n",
    "import plotly.express as px\n",
    "\n",
    "cf.go_offline()\n",
    "?pd.DataFrame.iplot"
   ]
  },
  {
   "cell_type": "markdown",
   "metadata": {},
   "source": [
    "**3.CARGA DE LOS DATOS**"
   ]
  },
  {
   "cell_type": "markdown",
   "metadata": {},
   "source": [
    "A continuación se declarará el siguiente dataframe generado en pandas y cargado a través de un archivo en csv llamado **4_clusteres_fifa2019_stats** en la ruta relativa \"../../data/4_clusteres_fifa2019_stats.csv\", donde están contenidas las variables categóricas. "
   ]
  },
  {
   "cell_type": "code",
   "execution_count": 2,
   "metadata": {},
   "outputs": [],
   "source": [
    "df = pd.read_csv('../../data/4_clusteres_fifa2019_stats.csv')"
   ]
  },
  {
   "cell_type": "markdown",
   "metadata": {},
   "source": [
    "**4.VISUALIZACIÓN E INTERPRETACIÓN DE LOS RESULTADOS**"
   ]
  },
  {
   "cell_type": "markdown",
   "metadata": {},
   "source": [
    "Ante el desconocimiento del campo a tratar se han realizado las siguientes visualizaciones  a modo exploratorio con el fin de comprobar si el modelo de clusterización aplicado a los datos ha sido efectivo."
   ]
  },
  {
   "cell_type": "markdown",
   "metadata": {},
   "source": [
    "Dada la naturaleza de la información se ha determinado que la manera más efectiva de visualizar los datos será mediante una serie de histogramas que demuestren la diferencia entre los clústers."
   ]
  },
  {
   "cell_type": "markdown",
   "metadata": {},
   "source": [
    "*Los clústers están enumerados del 0 al 3. Siendo el 0 el que contiene menor cantidad de registros y el 3 el que cotiene la mayor cantidad.*"
   ]
  },
  {
   "cell_type": "markdown",
   "metadata": {},
   "source": [
    "  **4.1 Distribución poblacional**"
   ]
  },
  {
   "cell_type": "markdown",
   "metadata": {},
   "source": [
    "En este primer histograma se verá representado el volúmen de jugadores que contiene cada clúster."
   ]
  },
  {
   "cell_type": "code",
   "execution_count": 28,
   "metadata": {},
   "outputs": [],
   "source": [
    "df['cluster'].iplot(kind='hist', title='Jugadores totales por cluster',\n",
    "                    yTitle='Jugadores totales', xTitle='clústers')"
   ]
  },
  {
   "cell_type": "markdown",
   "metadata": {},
   "source": [
    "Se aprecia una gran descompensación entre clústers y como se puede comprobar en la gráfica que aparece en el apartado de la **FASE:1** titulado **5. APLICACIÓN DE LOS DISTINTOS MODELOS DE CLUSTERIZACIÓN**, la distribución de jugadores coincide con el tamaño de los clústers representados ahí."
   ]
  },
  {
   "cell_type": "markdown",
   "metadata": {},
   "source": [
    "**4.2 Salariao medio por clúster**"
   ]
  },
  {
   "cell_type": "markdown",
   "metadata": {},
   "source": [
    "En el siguiente gráfico será representado el salario medio de los jugadores que conforman cada clúster."
   ]
  },
  {
   "cell_type": "code",
   "execution_count": 4,
   "metadata": {},
   "outputs": [],
   "source": [
    "salario_medio_por_cluster = df.groupby('cluster',\n",
    "                                       as_index=False).agg({'Wage':'mean'})"
   ]
  },
  {
   "cell_type": "code",
   "execution_count": 29,
   "metadata": {},
   "outputs": [],
   "source": [
    "salario_medio_por_cluster"
   ]
  },
  {
   "cell_type": "code",
   "execution_count": null,
   "metadata": {},
   "outputs": [],
   "source": [
    "salario_medio_por_cluster.iplot(kind='bar', \n",
    "                       x='cluster', \n",
    "                       xTitle='clústers', \n",
    "                       yTitle='Salario en MIllones', \n",
    "                       title='Salario medio por clúster', \n",
    "                       color='green')"
   ]
  },
  {
   "cell_type": "markdown",
   "metadata": {},
   "source": [
    "En esta visualización se empieza a apreciar la semejanza de la información con la realidad en la que grandes estrellas del fútbol perciben grandes cantidades de salario y cobra sentido que estas pertenezcan al clúster \"0\", donde el volúmen de jugadores respecto al total es ínfimo mostrando una relación inversa con el gráfico **4.2**."
   ]
  },
  {
   "cell_type": "markdown",
   "metadata": {},
   "source": [
    "**4.3 Reputación media por clúster**"
   ]
  },
  {
   "cell_type": "markdown",
   "metadata": {},
   "source": [
    "A continuación se representa el valor medio por clúster llamado *Internacional Reputation* que determina el nivel de reputación aplicado por el videojuego a los jugadores."
   ]
  },
  {
   "cell_type": "code",
   "execution_count": 7,
   "metadata": {},
   "outputs": [],
   "source": [
    "reputacion_media_por_cluster = df.groupby('cluster',\n",
    "                                          as_index=False).agg({'International Reputation':'mean'})"
   ]
  },
  {
   "cell_type": "code",
   "execution_count": null,
   "metadata": {},
   "outputs": [],
   "source": [
    "reputacion_media_por_cluster"
   ]
  },
  {
   "cell_type": "code",
   "execution_count": null,
   "metadata": {},
   "outputs": [],
   "source": [
    "reputacion_media_por_cluster.iplot(kind='bar', \n",
    "                       x='cluster', \n",
    "                       xTitle='clústers', \n",
    "                       yTitle='Reputación Internacional', \n",
    "                       title='Reputación Internacional media por clúster', \n",
    "                       color='blue')"
   ]
  },
  {
   "cell_type": "markdown",
   "metadata": {},
   "source": [
    "Lo más interesante de esté gráfico es la diferencia casi perfecta que se muestra escalonada entre clústers, que por un lado demuestra ir acorde con la importancia de los jugadores de mayor a menor como hemos estado viendo hasta ahora, pero lo más importante es que resulta ser un undicador de confianza sobre la efectividad del algoritmo empleado para la clusterización."
   ]
  },
  {
   "cell_type": "markdown",
   "metadata": {},
   "source": [
    "**4.4 Potencial medio por clúster**"
   ]
  },
  {
   "cell_type": "markdown",
   "metadata": {},
   "source": [
    "En el siguiente gráfico queda representado el nivel potencial medio de los jugadores de cada clúster sobre el terreno de juego."
   ]
  },
  {
   "cell_type": "code",
   "execution_count": 10,
   "metadata": {},
   "outputs": [],
   "source": [
    "potencial_medio = df.groupby('cluster',\n",
    "                             as_index=False).agg({'Potential':'mean'})"
   ]
  },
  {
   "cell_type": "code",
   "execution_count": null,
   "metadata": {},
   "outputs": [],
   "source": [
    "potencial_medio"
   ]
  },
  {
   "cell_type": "code",
   "execution_count": null,
   "metadata": {},
   "outputs": [],
   "source": [
    "potencial_medio.iplot(kind='bar', \n",
    "                       x='cluster', \n",
    "                       xTitle='clústers', \n",
    "                       yTitle='Potencial', \n",
    "                       title='Potencial medio por clúster', \n",
    "                       color='yellow')"
   ]
  },
  {
   "cell_type": "markdown",
   "metadata": {},
   "source": [
    "Se puede comprobar como en este caso no hay una descompensación tan grande como en los valores de las representaciones anteriores, existiendo un margen del **20% puntos** entre el clúster \"0\" y el \"3\". No obstante sigue habiendo una distribución escalonada dando preferencia el clúster \"0\" donde parecen encontrarse los jugadores de primer nivel."
   ]
  },
  {
   "cell_type": "markdown",
   "metadata": {},
   "source": [
    "**4.5 Tasa media de trabajo por clúster**"
   ]
  },
  {
   "cell_type": "markdown",
   "metadata": {},
   "source": [
    "La Tasa representada en el siguiente histograma representa el nivel de compromiso que tiene el jugador entre la defensa y el ataque."
   ]
  },
  {
   "cell_type": "code",
   "execution_count": 13,
   "metadata": {},
   "outputs": [],
   "source": [
    "work_rate_medio = df.groupby('cluster', as_index=False).agg({'Work':'mean'})"
   ]
  },
  {
   "cell_type": "code",
   "execution_count": null,
   "metadata": {},
   "outputs": [],
   "source": [
    "work_rate_medio"
   ]
  },
  {
   "cell_type": "code",
   "execution_count": null,
   "metadata": {},
   "outputs": [],
   "source": [
    "potencial_medio.iplot(kind='bar', \n",
    "                       x='cluster', \n",
    "                       xTitle='clústers', \n",
    "                       yTitle='Tasa de Trabajo', \n",
    "                       title='Tasa media de Trabajo por clúster', \n",
    "                       color='red')"
   ]
  },
  {
   "cell_type": "markdown",
   "metadata": {},
   "source": [
    "Como se puede observar sigue existiendo la misma distribución pero sin una gran diferencia, esto puede demostrar que los jugadores de primer nivel son más completos y se desenvuelven con soltura en ambas actitudes, no obstante, este caso sería conveniente estudiar los *outliers* que contenga el clúster."
   ]
  },
  {
   "cell_type": "markdown",
   "metadata": {},
   "source": [
    "**4.6 Edad media por clúster**"
   ]
  },
  {
   "cell_type": "markdown",
   "metadata": {},
   "source": [
    "A continuación, se mostrará la edad media que contiene cada clúster."
   ]
  },
  {
   "cell_type": "code",
   "execution_count": 16,
   "metadata": {},
   "outputs": [],
   "source": [
    "edad_media = df.groupby('cluster', as_index=False).agg({'Age':'mean'})"
   ]
  },
  {
   "cell_type": "code",
   "execution_count": null,
   "metadata": {},
   "outputs": [],
   "source": [
    "edad_media"
   ]
  },
  {
   "cell_type": "code",
   "execution_count": null,
   "metadata": {},
   "outputs": [],
   "source": [
    "edad_media.iplot(kind='bar', \n",
    "                       x='cluster', \n",
    "                       xTitle='clústers', \n",
    "                       yTitle='Edad de los jugadores', \n",
    "                       title='Edad media de los jugadores por clúster', \n",
    "                       color='purple')"
   ]
  },
  {
   "cell_type": "markdown",
   "metadata": {},
   "source": [
    "En este caso la distribución se representa excepcionalmente con respecto al resto de gráficas. Aunque sin una diferencia realmente notable. En este caso se podrían plantear dos hipótesis.\n",
    "\n",
    "    -A) ¿Es decisiva la edad de un jugador con respecto a su calidad?\n",
    "    -B) ¿La veterania de un jugador influye en su reputación y por consiguiente en su salario?"
   ]
  },
  {
   "cell_type": "markdown",
   "metadata": {},
   "source": [
    "**4.7 Calidad media de juego por cada clúster según la media de sus habilidades**"
   ]
  },
  {
   "cell_type": "markdown",
   "metadata": {},
   "source": [
    "Para este gráfico se ha usado la media de todas las estadísticas del jugador en el campo."
   ]
  },
  {
   "cell_type": "code",
   "execution_count": 19,
   "metadata": {},
   "outputs": [],
   "source": [
    "avg_stats_medio = df.groupby('cluster', as_index=False).agg({'avg_stats':'mean'})"
   ]
  },
  {
   "cell_type": "code",
   "execution_count": null,
   "metadata": {},
   "outputs": [],
   "source": [
    "avg_stats_medio"
   ]
  },
  {
   "cell_type": "code",
   "execution_count": null,
   "metadata": {},
   "outputs": [],
   "source": [
    "avg_stats_medio.iplot(kind='bar', \n",
    "                       x='cluster', \n",
    "                       xTitle='clústers', \n",
    "                       yTitle='Edad de los jugadores', \n",
    "                       title='Edad media de los jugadores por clúster', \n",
    "                       color='pink')"
   ]
  },
  {
   "cell_type": "markdown",
   "metadata": {},
   "source": [
    "Se repite una distribución similar al resto pero se puede apreciar que no hay una diferencia demasiado descompensada entre los clústers \"0\" y \"1\"."
   ]
  },
  {
   "cell_type": "markdown",
   "metadata": {},
   "source": [
    "**5 COMPROBACIÓN DE LOS JUGADORES QUE CONFORMAN EL PRIMER CLÚSTER**"
   ]
  },
  {
   "cell_type": "markdown",
   "metadata": {},
   "source": [
    "Para finalizar se mostrarán aquellos jugadores que contiene el clúster \"0\" para comprobar la fiabilidad de los datos."
   ]
  },
  {
   "cell_type": "code",
   "execution_count": 24,
   "metadata": {},
   "outputs": [],
   "source": [
    "clúster_cero = df[df['cluster'] == 0]"
   ]
  },
  {
   "cell_type": "code",
   "execution_count": null,
   "metadata": {},
   "outputs": [],
   "source": [
    "clúster_cero"
   ]
  },
  {
   "cell_type": "markdown",
   "metadata": {},
   "source": [
    "Como se puede comprobar, los jugadores etiquetados en este clúster son de primer nivel, demostrando así la fiabilidad del análisis."
   ]
  },
  {
   "cell_type": "markdown",
   "metadata": {},
   "source": [
    "**6 CONCLUSIONES**"
   ]
  },
  {
   "cell_type": "markdown",
   "metadata": {},
   "source": [
    "Dejando a un lado las conclusiones fubolísticas en cuanto al fifa2019 se refiere, se ha podido comprobar que existe una coherencia lógica y feaciente de los criterios de clasificación usados por el algoritmo y queda demostrada la efectividad del mismo sobre los datos entrenados que a posteriori podrán ser analizados con mayor precisión de cara a los objetivos que requieran los futuros proyectos."
   ]
  }
 ],
 "metadata": {
  "kernelspec": {
   "display_name": "Python 3",
   "language": "python",
   "name": "python3"
  },
  "language_info": {
   "codemirror_mode": {
    "name": "ipython",
    "version": 3
   },
   "file_extension": ".py",
   "mimetype": "text/x-python",
   "name": "python",
   "nbconvert_exporter": "python",
   "pygments_lexer": "ipython3",
   "version": "3.7.4"
  }
 },
 "nbformat": 4,
 "nbformat_minor": 4
}
